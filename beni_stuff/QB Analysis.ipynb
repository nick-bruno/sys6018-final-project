{
 "cells": [
  {
   "cell_type": "markdown",
   "metadata": {},
   "source": [
    "## QB Data Analysis"
   ]
  },
  {
   "cell_type": "code",
   "execution_count": 1,
   "metadata": {},
   "outputs": [],
   "source": [
    "import pandas as pd\n",
    "import numpy as np\n",
    "import matplotlib.pyplot as plt\n",
    "%matplotlib inline\n",
    "pd.options.display.max_columns = None\n",
    "pd.options.display.max_rows = 50\n",
    "qb_file = \"qb_games_more_10.csv\""
   ]
  },
  {
   "cell_type": "code",
   "execution_count": 2,
   "metadata": {},
   "outputs": [
    {
     "data": {
      "text/html": [
       "<div>\n",
       "<style scoped>\n",
       "    .dataframe tbody tr th:only-of-type {\n",
       "        vertical-align: middle;\n",
       "    }\n",
       "\n",
       "    .dataframe tbody tr th {\n",
       "        vertical-align: top;\n",
       "    }\n",
       "\n",
       "    .dataframe thead th {\n",
       "        text-align: right;\n",
       "    }\n",
       "</style>\n",
       "<table border=\"1\" class=\"dataframe\">\n",
       "  <thead>\n",
       "    <tr style=\"text-align: right;\">\n",
       "      <th></th>\n",
       "      <th>Unnamed: 0</th>\n",
       "      <th>name</th>\n",
       "      <th>id</th>\n",
       "      <th>Year</th>\n",
       "      <th>Date</th>\n",
       "      <th>G.</th>\n",
       "      <th>Age</th>\n",
       "      <th>Tm</th>\n",
       "      <th>X</th>\n",
       "      <th>Opp</th>\n",
       "      <th>Result</th>\n",
       "      <th>GS</th>\n",
       "      <th>Cmp</th>\n",
       "      <th>Att</th>\n",
       "      <th>Cmp.</th>\n",
       "      <th>Yds</th>\n",
       "      <th>TD</th>\n",
       "      <th>Int</th>\n",
       "      <th>Rate</th>\n",
       "      <th>Sk</th>\n",
       "      <th>Yds.1</th>\n",
       "      <th>Y.A</th>\n",
       "      <th>AY.A</th>\n",
       "      <th>Att.1</th>\n",
       "      <th>Yds.2</th>\n",
       "      <th>Y.A.1</th>\n",
       "      <th>TD.1</th>\n",
       "      <th>TD.2</th>\n",
       "      <th>Pts</th>\n",
       "      <th>Fmb</th>\n",
       "      <th>FF</th>\n",
       "      <th>FR</th>\n",
       "      <th>Yds.3</th>\n",
       "      <th>TD.3</th>\n",
       "    </tr>\n",
       "  </thead>\n",
       "  <tbody>\n",
       "    <tr>\n",
       "      <th>0</th>\n",
       "      <td>31</td>\n",
       "      <td>A.J. Feeley</td>\n",
       "      <td>FeelA.00</td>\n",
       "      <td>2001</td>\n",
       "      <td>2002-01-06</td>\n",
       "      <td>16</td>\n",
       "      <td>24.235</td>\n",
       "      <td>PHI</td>\n",
       "      <td>@</td>\n",
       "      <td>TAM</td>\n",
       "      <td>W 17-13</td>\n",
       "      <td>NaN</td>\n",
       "      <td>10.0</td>\n",
       "      <td>14.0</td>\n",
       "      <td>71.43</td>\n",
       "      <td>143.0</td>\n",
       "      <td>2.0</td>\n",
       "      <td>1.0</td>\n",
       "      <td>114.0</td>\n",
       "      <td>0.0</td>\n",
       "      <td>0.0</td>\n",
       "      <td>10.21</td>\n",
       "      <td>9.86</td>\n",
       "      <td>0.0</td>\n",
       "      <td>0.0</td>\n",
       "      <td>NaN</td>\n",
       "      <td>0.0</td>\n",
       "      <td>0.0</td>\n",
       "      <td>0.0</td>\n",
       "      <td>0.0</td>\n",
       "      <td>0.0</td>\n",
       "      <td>0.0</td>\n",
       "      <td>0.0</td>\n",
       "      <td>0.0</td>\n",
       "    </tr>\n",
       "    <tr>\n",
       "      <th>1</th>\n",
       "      <td>33</td>\n",
       "      <td>A.J. Feeley</td>\n",
       "      <td>FeelA.00</td>\n",
       "      <td>2002</td>\n",
       "      <td>2002-12-01</td>\n",
       "      <td>12</td>\n",
       "      <td>25.199</td>\n",
       "      <td>PHI</td>\n",
       "      <td>NaN</td>\n",
       "      <td>STL</td>\n",
       "      <td>W 10-3</td>\n",
       "      <td>*</td>\n",
       "      <td>14.0</td>\n",
       "      <td>30.0</td>\n",
       "      <td>46.67</td>\n",
       "      <td>181.0</td>\n",
       "      <td>0.0</td>\n",
       "      <td>0.0</td>\n",
       "      <td>66.1</td>\n",
       "      <td>3.0</td>\n",
       "      <td>24.0</td>\n",
       "      <td>6.03</td>\n",
       "      <td>6.03</td>\n",
       "      <td>2.0</td>\n",
       "      <td>3.0</td>\n",
       "      <td>1.5</td>\n",
       "      <td>0.0</td>\n",
       "      <td>0.0</td>\n",
       "      <td>0.0</td>\n",
       "      <td>0.0</td>\n",
       "      <td>0.0</td>\n",
       "      <td>0.0</td>\n",
       "      <td>0.0</td>\n",
       "      <td>0.0</td>\n",
       "    </tr>\n",
       "    <tr>\n",
       "      <th>2</th>\n",
       "      <td>34</td>\n",
       "      <td>A.J. Feeley</td>\n",
       "      <td>FeelA.00</td>\n",
       "      <td>2002</td>\n",
       "      <td>2002-12-08</td>\n",
       "      <td>13</td>\n",
       "      <td>25.206</td>\n",
       "      <td>PHI</td>\n",
       "      <td>@</td>\n",
       "      <td>SEA</td>\n",
       "      <td>W 27-20</td>\n",
       "      <td>*</td>\n",
       "      <td>21.0</td>\n",
       "      <td>35.0</td>\n",
       "      <td>60.00</td>\n",
       "      <td>190.0</td>\n",
       "      <td>2.0</td>\n",
       "      <td>1.0</td>\n",
       "      <td>81.8</td>\n",
       "      <td>0.0</td>\n",
       "      <td>0.0</td>\n",
       "      <td>5.43</td>\n",
       "      <td>5.29</td>\n",
       "      <td>3.0</td>\n",
       "      <td>0.0</td>\n",
       "      <td>0.0</td>\n",
       "      <td>0.0</td>\n",
       "      <td>0.0</td>\n",
       "      <td>0.0</td>\n",
       "      <td>0.0</td>\n",
       "      <td>0.0</td>\n",
       "      <td>0.0</td>\n",
       "      <td>0.0</td>\n",
       "      <td>0.0</td>\n",
       "    </tr>\n",
       "    <tr>\n",
       "      <th>3</th>\n",
       "      <td>35</td>\n",
       "      <td>A.J. Feeley</td>\n",
       "      <td>FeelA.00</td>\n",
       "      <td>2002</td>\n",
       "      <td>2002-12-15</td>\n",
       "      <td>14</td>\n",
       "      <td>25.213</td>\n",
       "      <td>PHI</td>\n",
       "      <td>NaN</td>\n",
       "      <td>WAS</td>\n",
       "      <td>W 34-21</td>\n",
       "      <td>*</td>\n",
       "      <td>16.0</td>\n",
       "      <td>28.0</td>\n",
       "      <td>57.14</td>\n",
       "      <td>220.0</td>\n",
       "      <td>2.0</td>\n",
       "      <td>1.0</td>\n",
       "      <td>91.4</td>\n",
       "      <td>2.0</td>\n",
       "      <td>10.0</td>\n",
       "      <td>7.86</td>\n",
       "      <td>7.68</td>\n",
       "      <td>2.0</td>\n",
       "      <td>5.0</td>\n",
       "      <td>2.5</td>\n",
       "      <td>0.0</td>\n",
       "      <td>0.0</td>\n",
       "      <td>0.0</td>\n",
       "      <td>0.0</td>\n",
       "      <td>0.0</td>\n",
       "      <td>0.0</td>\n",
       "      <td>0.0</td>\n",
       "      <td>0.0</td>\n",
       "    </tr>\n",
       "    <tr>\n",
       "      <th>4</th>\n",
       "      <td>36</td>\n",
       "      <td>A.J. Feeley</td>\n",
       "      <td>FeelA.00</td>\n",
       "      <td>2002</td>\n",
       "      <td>2002-12-21</td>\n",
       "      <td>15</td>\n",
       "      <td>25.219</td>\n",
       "      <td>PHI</td>\n",
       "      <td>@</td>\n",
       "      <td>DAL</td>\n",
       "      <td>W 27-3</td>\n",
       "      <td>*</td>\n",
       "      <td>19.0</td>\n",
       "      <td>33.0</td>\n",
       "      <td>57.58</td>\n",
       "      <td>253.0</td>\n",
       "      <td>1.0</td>\n",
       "      <td>2.0</td>\n",
       "      <td>66.9</td>\n",
       "      <td>1.0</td>\n",
       "      <td>8.0</td>\n",
       "      <td>7.67</td>\n",
       "      <td>5.55</td>\n",
       "      <td>2.0</td>\n",
       "      <td>2.0</td>\n",
       "      <td>1.0</td>\n",
       "      <td>0.0</td>\n",
       "      <td>0.0</td>\n",
       "      <td>0.0</td>\n",
       "      <td>0.0</td>\n",
       "      <td>0.0</td>\n",
       "      <td>0.0</td>\n",
       "      <td>0.0</td>\n",
       "      <td>0.0</td>\n",
       "    </tr>\n",
       "  </tbody>\n",
       "</table>\n",
       "</div>"
      ],
      "text/plain": [
       "   Unnamed: 0         name        id  Year        Date  G.     Age   Tm    X  \\\n",
       "0          31  A.J. Feeley  FeelA.00  2001  2002-01-06  16  24.235  PHI    @   \n",
       "1          33  A.J. Feeley  FeelA.00  2002  2002-12-01  12  25.199  PHI  NaN   \n",
       "2          34  A.J. Feeley  FeelA.00  2002  2002-12-08  13  25.206  PHI    @   \n",
       "3          35  A.J. Feeley  FeelA.00  2002  2002-12-15  14  25.213  PHI  NaN   \n",
       "4          36  A.J. Feeley  FeelA.00  2002  2002-12-21  15  25.219  PHI    @   \n",
       "\n",
       "   Opp   Result   GS   Cmp   Att   Cmp.    Yds   TD  Int   Rate   Sk  Yds.1  \\\n",
       "0  TAM  W 17-13  NaN  10.0  14.0  71.43  143.0  2.0  1.0  114.0  0.0    0.0   \n",
       "1  STL   W 10-3    *  14.0  30.0  46.67  181.0  0.0  0.0   66.1  3.0   24.0   \n",
       "2  SEA  W 27-20    *  21.0  35.0  60.00  190.0  2.0  1.0   81.8  0.0    0.0   \n",
       "3  WAS  W 34-21    *  16.0  28.0  57.14  220.0  2.0  1.0   91.4  2.0   10.0   \n",
       "4  DAL   W 27-3    *  19.0  33.0  57.58  253.0  1.0  2.0   66.9  1.0    8.0   \n",
       "\n",
       "     Y.A  AY.A  Att.1  Yds.2  Y.A.1  TD.1  TD.2  Pts  Fmb   FF   FR  Yds.3  \\\n",
       "0  10.21  9.86    0.0    0.0    NaN   0.0   0.0  0.0  0.0  0.0  0.0    0.0   \n",
       "1   6.03  6.03    2.0    3.0    1.5   0.0   0.0  0.0  0.0  0.0  0.0    0.0   \n",
       "2   5.43  5.29    3.0    0.0    0.0   0.0   0.0  0.0  0.0  0.0  0.0    0.0   \n",
       "3   7.86  7.68    2.0    5.0    2.5   0.0   0.0  0.0  0.0  0.0  0.0    0.0   \n",
       "4   7.67  5.55    2.0    2.0    1.0   0.0   0.0  0.0  0.0  0.0  0.0    0.0   \n",
       "\n",
       "   TD.3  \n",
       "0   0.0  \n",
       "1   0.0  \n",
       "2   0.0  \n",
       "3   0.0  \n",
       "4   0.0  "
      ]
     },
     "execution_count": 2,
     "metadata": {},
     "output_type": "execute_result"
    }
   ],
   "source": [
    "qb_data = pd.read_csv(qb_file)\n",
    "qb_data.head()"
   ]
  },
  {
   "cell_type": "markdown",
   "metadata": {},
   "source": [
    "### Data Cleaning"
   ]
  },
  {
   "cell_type": "code",
   "execution_count": 3,
   "metadata": {},
   "outputs": [
    {
     "data": {
      "text/plain": [
       "(26951, 34)"
      ]
     },
     "execution_count": 3,
     "metadata": {},
     "output_type": "execute_result"
    }
   ],
   "source": [
    "# 26951 games included, with 34 columns\n",
    "qb_data.shape"
   ]
  },
  {
   "cell_type": "code",
   "execution_count": 4,
   "metadata": {},
   "outputs": [
    {
     "data": {
      "text/plain": [
       "X        True\n",
       "GS       True\n",
       "Cmp      True\n",
       "Cmp.     True\n",
       "Yds      True\n",
       "TD       True\n",
       "Int      True\n",
       "Rate     True\n",
       "Sk       True\n",
       "Yds.1    True\n",
       "Y.A      True\n",
       "AY.A     True\n",
       "Att.1    True\n",
       "Yds.2    True\n",
       "Y.A.1    True\n",
       "TD.1     True\n",
       "TD.2     True\n",
       "Pts      True\n",
       "Fmb      True\n",
       "FF       True\n",
       "FR       True\n",
       "Yds.3    True\n",
       "TD.3     True\n",
       "dtype: bool"
      ]
     },
     "execution_count": 4,
     "metadata": {},
     "output_type": "execute_result"
    }
   ],
   "source": [
    "# see which columns have na values\n",
    "qb_data.isna().any()[qb_data.isna().any() == True]"
   ]
  },
  {
   "cell_type": "code",
   "execution_count": 5,
   "metadata": {},
   "outputs": [],
   "source": [
    "# replace most NA values with 0\n",
    "columns_to_set_na_to_0 = ['Cmp','Cmp.','Yds','TD','Int','Rate','Sk','Yds.1','Y.A','AY.A','Att.1','Yds.2','Y.A.1','TD.1','TD.2','Pts','Fmb','FF','FR','Yds.3','TD.3']\n",
    "qb_data[columns_to_set_na_to_0] = qb_data[columns_to_set_na_to_0].fillna(0)\n",
    "# make game started a boolean\n",
    "qb_data['GS'] = qb_data['GS'] == \"*\"\n",
    "# get rid of this random column\n",
    "qb_data = qb_data.drop('Unnamed: 0', axis=1)"
   ]
  },
  {
   "cell_type": "code",
   "execution_count": 6,
   "metadata": {},
   "outputs": [],
   "source": [
    "# extract a win from the result column with a 1, or a 0 for a loss\n",
    "qb_data['team_win'] = [1 if \"W\" in x else 0 for x in qb_data['Result']]\n",
    "# get a list of games the team won that that QB started\n",
    "qb_data['start_win'] = [1 if (\"W\" in qb_data.loc[i,'Result'] and qb_data.loc[i,'GS'] == True) else 0 for i in range(qb_data.shape[0])]"
   ]
  },
  {
   "cell_type": "code",
   "execution_count": 7,
   "metadata": {},
   "outputs": [],
   "source": [
    "# The following is a way to know which game corresponds to a QB's nth started game. \n",
    "# This is important for analysis to know how many games we need to know \n",
    "# what kind of QB they will be\n",
    "games_started = []\n",
    "last_qb = None\n",
    "for index, row in qb_data.iterrows():\n",
    "    current_qb = row.id\n",
    "    if current_qb != last_qb:\n",
    "        if row['GS'] == True:\n",
    "            gs_count = 1\n",
    "        else:\n",
    "            gs_count = 0\n",
    "    else:\n",
    "        if row['GS'] == True:\n",
    "            gs_count += 1\n",
    "    games_started.append(gs_count)\n",
    "    last_qb = current_qb\n",
    "qb_data['game_count'] = qb_data.groupby('id').cumcount()\n",
    "qb_data['start_count'] = games_started"
   ]
  },
  {
   "cell_type": "code",
   "execution_count": 8,
   "metadata": {},
   "outputs": [
    {
     "data": {
      "text/html": [
       "<div>\n",
       "<style scoped>\n",
       "    .dataframe tbody tr th:only-of-type {\n",
       "        vertical-align: middle;\n",
       "    }\n",
       "\n",
       "    .dataframe tbody tr th {\n",
       "        vertical-align: top;\n",
       "    }\n",
       "\n",
       "    .dataframe thead th {\n",
       "        text-align: right;\n",
       "    }\n",
       "</style>\n",
       "<table border=\"1\" class=\"dataframe\">\n",
       "  <thead>\n",
       "    <tr style=\"text-align: right;\">\n",
       "      <th></th>\n",
       "      <th>name</th>\n",
       "      <th>game_count</th>\n",
       "      <th>start_count</th>\n",
       "      <th>Year</th>\n",
       "    </tr>\n",
       "    <tr>\n",
       "      <th>id</th>\n",
       "      <th></th>\n",
       "      <th></th>\n",
       "      <th></th>\n",
       "      <th></th>\n",
       "    </tr>\n",
       "  </thead>\n",
       "  <tbody>\n",
       "    <tr>\n",
       "      <th>AdamTo00</th>\n",
       "      <td>Tony Adams</td>\n",
       "      <td>13</td>\n",
       "      <td>9</td>\n",
       "      <td>1987</td>\n",
       "    </tr>\n",
       "    <tr>\n",
       "      <th>AikmTr00</th>\n",
       "      <td>Troy Aikman+</td>\n",
       "      <td>171</td>\n",
       "      <td>171</td>\n",
       "      <td>2000</td>\n",
       "    </tr>\n",
       "    <tr>\n",
       "      <th>AlbeFr00</th>\n",
       "      <td>Frankie Albert</td>\n",
       "      <td>29</td>\n",
       "      <td>28</td>\n",
       "      <td>1952</td>\n",
       "    </tr>\n",
       "    <tr>\n",
       "      <th>AlleJo02</th>\n",
       "      <td>Josh Allen</td>\n",
       "      <td>5</td>\n",
       "      <td>5</td>\n",
       "      <td>2018</td>\n",
       "    </tr>\n",
       "    <tr>\n",
       "      <th>AndeDe00</th>\n",
       "      <td>Derek Anderson</td>\n",
       "      <td>54</td>\n",
       "      <td>48</td>\n",
       "      <td>2018</td>\n",
       "    </tr>\n",
       "  </tbody>\n",
       "</table>\n",
       "</div>"
      ],
      "text/plain": [
       "                    name  game_count  start_count  Year\n",
       "id                                                     \n",
       "AdamTo00      Tony Adams          13            9  1987\n",
       "AikmTr00    Troy Aikman+         171          171  2000\n",
       "AlbeFr00  Frankie Albert          29           28  1952\n",
       "AlleJo02      Josh Allen           5            5  2018\n",
       "AndeDe00  Derek Anderson          54           48  2018"
      ]
     },
     "execution_count": 8,
     "metadata": {},
     "output_type": "execute_result"
    }
   ],
   "source": [
    "# get the total number of games a player played and started in their career, and\n",
    "qb_total_games = qb_data.groupby(['id', 'name'])['game_count', 'start_count', 'Year'].max().reset_index('name')\n",
    "#qb_games_started = qb_data.groupby(['name','id'])['start_count'].max()\n",
    "qb_total_games.head()"
   ]
  },
  {
   "cell_type": "code",
   "execution_count": 9,
   "metadata": {},
   "outputs": [],
   "source": [
    "# get sum totals for each QB on the following columns\n",
    "sum_columns =['Cmp', 'Att','Yds','TD','Int','Sk','Fmb','team_win','start_win']\n",
    "qb_totals = qb_data.groupby(['name', 'id'])[sum_columns].sum()#.reset_index('name')\n",
    "\n",
    "# join that table with the games started and total games tables\n",
    "qb_totals = qb_totals.join(qb_total_games, on='id').drop('name', axis=1).reset_index('name')\n",
    "#qb_totals.join(qb_totals.groupby('id')['Year'].max())"
   ]
  },
  {
   "cell_type": "code",
   "execution_count": 10,
   "metadata": {},
   "outputs": [],
   "source": [
    "# add some more columns based on career totals\n",
    "qb_totals['Cmp.'] = qb_totals['Cmp'] / qb_totals['Att']\n",
    "qb_totals['Y.A'] = qb_totals['Yds'] / qb_totals['Att']\n",
    "qb_totals['TD_pct'] = qb_totals['TD'] / qb_totals['Att']\n",
    "qb_totals['Int_pct'] = qb_totals['Int'] / qb_totals['Att']\n",
    "# below is the winning percentage for the team in the games that they started\n",
    "qb_totals['gs_wp'] = (qb_totals['start_win'] / qb_totals['start_count']).fillna(0)\n",
    "qb_totals['sack_pg'] = (qb_totals['Sk'] / qb_totals['start_count']).fillna(0)"
   ]
  },
  {
   "cell_type": "code",
   "execution_count": 11,
   "metadata": {},
   "outputs": [
    {
     "data": {
      "text/plain": [
       "(346, 19)"
      ]
     },
     "execution_count": 11,
     "metadata": {},
     "output_type": "execute_result"
    }
   ],
   "source": [
    "# just looking at qbs with at least 10 starts to get a decent sample size\n",
    "qb_10_starts = qb_totals[qb_totals.start_count >= 10]\n",
    "qb_10_starts = qb_10_starts.drop(qb_10_starts[qb_10_starts.Cmp < 10].index)\n",
    "qb_10_starts.shape\n",
    "# 346 QBs in our dataset with at least 10 starts"
   ]
  },
  {
   "cell_type": "markdown",
   "metadata": {},
   "source": [
    "#### Separate the QBs with 10 starts into two groups: one called 'retired QBs', which are those that haven't played in 2018, and those who are still playing. We will use the retired QBs in order to predict how the non-retired QBs will fare in the future."
   ]
  },
  {
   "cell_type": "code",
   "execution_count": 12,
   "metadata": {},
   "outputs": [],
   "source": [
    "retired_qbs = qb_10_starts[qb_10_starts.Year < 2018]\n",
    "current_qbs = qb_10_starts[qb_10_starts.Year == 2018]"
   ]
  },
  {
   "cell_type": "markdown",
   "metadata": {},
   "source": [
    "### Exploratory Data Analysis"
   ]
  },
  {
   "cell_type": "code",
   "execution_count": 13,
   "metadata": {},
   "outputs": [
    {
     "data": {
      "text/html": [
       "<div>\n",
       "<style scoped>\n",
       "    .dataframe tbody tr th:only-of-type {\n",
       "        vertical-align: middle;\n",
       "    }\n",
       "\n",
       "    .dataframe tbody tr th {\n",
       "        vertical-align: top;\n",
       "    }\n",
       "\n",
       "    .dataframe thead th {\n",
       "        text-align: right;\n",
       "    }\n",
       "</style>\n",
       "<table border=\"1\" class=\"dataframe\">\n",
       "  <thead>\n",
       "    <tr style=\"text-align: right;\">\n",
       "      <th></th>\n",
       "      <th>Cmp</th>\n",
       "      <th>Att</th>\n",
       "      <th>Yds</th>\n",
       "      <th>TD</th>\n",
       "      <th>Int</th>\n",
       "      <th>Sk</th>\n",
       "      <th>Fmb</th>\n",
       "      <th>team_win</th>\n",
       "      <th>start_win</th>\n",
       "      <th>game_count</th>\n",
       "      <th>start_count</th>\n",
       "      <th>Year</th>\n",
       "      <th>Cmp.</th>\n",
       "      <th>Y.A</th>\n",
       "      <th>TD_pct</th>\n",
       "      <th>Int_pct</th>\n",
       "      <th>gs_wp</th>\n",
       "      <th>sack_pg</th>\n",
       "    </tr>\n",
       "  </thead>\n",
       "  <tbody>\n",
       "    <tr>\n",
       "      <th>count</th>\n",
       "      <td>346.000000</td>\n",
       "      <td>346.000000</td>\n",
       "      <td>346.000000</td>\n",
       "      <td>346.000000</td>\n",
       "      <td>346.000000</td>\n",
       "      <td>346.000000</td>\n",
       "      <td>346.000000</td>\n",
       "      <td>346.000000</td>\n",
       "      <td>346.000000</td>\n",
       "      <td>346.000000</td>\n",
       "      <td>346.000000</td>\n",
       "      <td>346.000000</td>\n",
       "      <td>346.000000</td>\n",
       "      <td>346.000000</td>\n",
       "      <td>346.000000</td>\n",
       "      <td>346.000000</td>\n",
       "      <td>346.000000</td>\n",
       "      <td>346.000000</td>\n",
       "    </tr>\n",
       "    <tr>\n",
       "      <th>mean</th>\n",
       "      <td>1230.364162</td>\n",
       "      <td>2144.642457</td>\n",
       "      <td>14959.684971</td>\n",
       "      <td>92.846821</td>\n",
       "      <td>80.471098</td>\n",
       "      <td>108.682081</td>\n",
       "      <td>7.445087</td>\n",
       "      <td>36.135838</td>\n",
       "      <td>34.745665</td>\n",
       "      <td>73.112717</td>\n",
       "      <td>68.560694</td>\n",
       "      <td>1994.378613</td>\n",
       "      <td>0.554452</td>\n",
       "      <td>6.708805</td>\n",
       "      <td>0.039507</td>\n",
       "      <td>0.041655</td>\n",
       "      <td>0.440455</td>\n",
       "      <td>1.738933</td>\n",
       "    </tr>\n",
       "    <tr>\n",
       "      <th>std</th>\n",
       "      <td>1208.892964</td>\n",
       "      <td>1981.848743</td>\n",
       "      <td>14535.738498</td>\n",
       "      <td>98.184253</td>\n",
       "      <td>68.174716</td>\n",
       "      <td>125.893641</td>\n",
       "      <td>16.840381</td>\n",
       "      <td>37.248348</td>\n",
       "      <td>36.970008</td>\n",
       "      <td>61.447576</td>\n",
       "      <td>61.071145</td>\n",
       "      <td>18.302879</td>\n",
       "      <td>0.071458</td>\n",
       "      <td>0.651355</td>\n",
       "      <td>0.010678</td>\n",
       "      <td>0.015084</td>\n",
       "      <td>0.150776</td>\n",
       "      <td>1.270138</td>\n",
       "    </tr>\n",
       "    <tr>\n",
       "      <th>min</th>\n",
       "      <td>92.000000</td>\n",
       "      <td>239.000000</td>\n",
       "      <td>1199.000000</td>\n",
       "      <td>3.000000</td>\n",
       "      <td>7.000000</td>\n",
       "      <td>0.000000</td>\n",
       "      <td>0.000000</td>\n",
       "      <td>0.000000</td>\n",
       "      <td>0.000000</td>\n",
       "      <td>9.000000</td>\n",
       "      <td>10.000000</td>\n",
       "      <td>1951.000000</td>\n",
       "      <td>0.382838</td>\n",
       "      <td>4.328520</td>\n",
       "      <td>0.011338</td>\n",
       "      <td>0.013672</td>\n",
       "      <td>0.000000</td>\n",
       "      <td>0.000000</td>\n",
       "    </tr>\n",
       "    <tr>\n",
       "      <th>25%</th>\n",
       "      <td>340.000000</td>\n",
       "      <td>644.000000</td>\n",
       "      <td>4021.500000</td>\n",
       "      <td>23.250000</td>\n",
       "      <td>27.000000</td>\n",
       "      <td>2.250000</td>\n",
       "      <td>0.000000</td>\n",
       "      <td>9.000000</td>\n",
       "      <td>8.000000</td>\n",
       "      <td>24.250000</td>\n",
       "      <td>20.000000</td>\n",
       "      <td>1979.250000</td>\n",
       "      <td>0.518705</td>\n",
       "      <td>6.359342</td>\n",
       "      <td>0.032562</td>\n",
       "      <td>0.030565</td>\n",
       "      <td>0.358974</td>\n",
       "      <td>0.043128</td>\n",
       "    </tr>\n",
       "    <tr>\n",
       "      <th>50%</th>\n",
       "      <td>769.000000</td>\n",
       "      <td>1398.000000</td>\n",
       "      <td>9106.500000</td>\n",
       "      <td>53.000000</td>\n",
       "      <td>58.000000</td>\n",
       "      <td>63.000000</td>\n",
       "      <td>0.000000</td>\n",
       "      <td>21.000000</td>\n",
       "      <td>19.000000</td>\n",
       "      <td>50.500000</td>\n",
       "      <td>45.000000</td>\n",
       "      <td>1997.500000</td>\n",
       "      <td>0.555775</td>\n",
       "      <td>6.778566</td>\n",
       "      <td>0.039503</td>\n",
       "      <td>0.038334</td>\n",
       "      <td>0.461538</td>\n",
       "      <td>2.019808</td>\n",
       "    </tr>\n",
       "    <tr>\n",
       "      <th>75%</th>\n",
       "      <td>1830.000000</td>\n",
       "      <td>3191.500000</td>\n",
       "      <td>22582.250000</td>\n",
       "      <td>138.000000</td>\n",
       "      <td>110.750000</td>\n",
       "      <td>171.250000</td>\n",
       "      <td>7.000000</td>\n",
       "      <td>55.750000</td>\n",
       "      <td>53.000000</td>\n",
       "      <td>111.500000</td>\n",
       "      <td>102.750000</td>\n",
       "      <td>2010.750000</td>\n",
       "      <td>0.591620</td>\n",
       "      <td>7.101500</td>\n",
       "      <td>0.045196</td>\n",
       "      <td>0.051906</td>\n",
       "      <td>0.538462</td>\n",
       "      <td>2.660000</td>\n",
       "    </tr>\n",
       "    <tr>\n",
       "      <th>max</th>\n",
       "      <td>6781.000000</td>\n",
       "      <td>10938.000000</td>\n",
       "      <td>79104.000000</td>\n",
       "      <td>578.000000</td>\n",
       "      <td>361.000000</td>\n",
       "      <td>556.000000</td>\n",
       "      <td>102.000000</td>\n",
       "      <td>230.000000</td>\n",
       "      <td>230.000000</td>\n",
       "      <td>320.000000</td>\n",
       "      <td>319.000000</td>\n",
       "      <td>2018.000000</td>\n",
       "      <td>1.353786</td>\n",
       "      <td>9.048295</td>\n",
       "      <td>0.082386</td>\n",
       "      <td>0.118667</td>\n",
       "      <td>0.900000</td>\n",
       "      <td>5.000000</td>\n",
       "    </tr>\n",
       "  </tbody>\n",
       "</table>\n",
       "</div>"
      ],
      "text/plain": [
       "               Cmp           Att           Yds          TD         Int  \\\n",
       "count   346.000000    346.000000    346.000000  346.000000  346.000000   \n",
       "mean   1230.364162   2144.642457  14959.684971   92.846821   80.471098   \n",
       "std    1208.892964   1981.848743  14535.738498   98.184253   68.174716   \n",
       "min      92.000000    239.000000   1199.000000    3.000000    7.000000   \n",
       "25%     340.000000    644.000000   4021.500000   23.250000   27.000000   \n",
       "50%     769.000000   1398.000000   9106.500000   53.000000   58.000000   \n",
       "75%    1830.000000   3191.500000  22582.250000  138.000000  110.750000   \n",
       "max    6781.000000  10938.000000  79104.000000  578.000000  361.000000   \n",
       "\n",
       "               Sk         Fmb    team_win   start_win  game_count  \\\n",
       "count  346.000000  346.000000  346.000000  346.000000  346.000000   \n",
       "mean   108.682081    7.445087   36.135838   34.745665   73.112717   \n",
       "std    125.893641   16.840381   37.248348   36.970008   61.447576   \n",
       "min      0.000000    0.000000    0.000000    0.000000    9.000000   \n",
       "25%      2.250000    0.000000    9.000000    8.000000   24.250000   \n",
       "50%     63.000000    0.000000   21.000000   19.000000   50.500000   \n",
       "75%    171.250000    7.000000   55.750000   53.000000  111.500000   \n",
       "max    556.000000  102.000000  230.000000  230.000000  320.000000   \n",
       "\n",
       "       start_count         Year        Cmp.         Y.A      TD_pct  \\\n",
       "count   346.000000   346.000000  346.000000  346.000000  346.000000   \n",
       "mean     68.560694  1994.378613    0.554452    6.708805    0.039507   \n",
       "std      61.071145    18.302879    0.071458    0.651355    0.010678   \n",
       "min      10.000000  1951.000000    0.382838    4.328520    0.011338   \n",
       "25%      20.000000  1979.250000    0.518705    6.359342    0.032562   \n",
       "50%      45.000000  1997.500000    0.555775    6.778566    0.039503   \n",
       "75%     102.750000  2010.750000    0.591620    7.101500    0.045196   \n",
       "max     319.000000  2018.000000    1.353786    9.048295    0.082386   \n",
       "\n",
       "          Int_pct       gs_wp     sack_pg  \n",
       "count  346.000000  346.000000  346.000000  \n",
       "mean     0.041655    0.440455    1.738933  \n",
       "std      0.015084    0.150776    1.270138  \n",
       "min      0.013672    0.000000    0.000000  \n",
       "25%      0.030565    0.358974    0.043128  \n",
       "50%      0.038334    0.461538    2.019808  \n",
       "75%      0.051906    0.538462    2.660000  \n",
       "max      0.118667    0.900000    5.000000  "
      ]
     },
     "execution_count": 13,
     "metadata": {},
     "output_type": "execute_result"
    }
   ],
   "source": [
    "qb_10_starts.describe()"
   ]
  },
  {
   "cell_type": "markdown",
   "metadata": {},
   "source": [
    "### Choosing some variables that I am going to use to group players into clusters. These are some stats that are often used to judge performance:\n",
    "* start_count: how many starts did the player make in their career? If you were able to play a long time, it's likely that you provided value to your team for that span of time.\n",
    "* Y.A: this is yards per attempt, a common measure of QB efficiency. The more yards you are able to get per play, the more efficient you likely are at having long drives and scoring.\n",
    "* TD_pct: what percentage of your attempts turned into touchdowns? Touchdowns are how points are scored, and a QB's ability to score touchdowns is a crucial measure of success.\n",
    "* Int_pct: what percentage of your attempts turned into interceptions? Interceptions are very bad for a quarterback, as it gives the othr team the ball and removes one of the few posessions per game that a team gets. This is a negative but important statistic.\n",
    "* gs_wp: what percent of games that you started did your team win? Arguably the most important stat for a QB. Football is a team game, however the QB is the most influential player on a team towards winning a game. Ultimately, this is how a QB is judged by fans and teams alike."
   ]
  },
  {
   "cell_type": "code",
   "execution_count": 14,
   "metadata": {},
   "outputs": [],
   "source": [
    "from sklearn.preprocessing import scale\n",
    "retired_cluster_stats = retired_qbs[['start_count', 'Y.A', 'TD_pct','Int_pct','gs_wp']]\n",
    "# scale the stats for clustering so they are each on a level playing field\n",
    "scaled_cluster_stats = pd.DataFrame(scale(retired_cluster_stats), index=retired_cluster_stats.index, columns=retired_cluster_stats.columns)"
   ]
  },
  {
   "cell_type": "code",
   "execution_count": 15,
   "metadata": {},
   "outputs": [
    {
     "data": {
      "image/png": "[encoded data removed]",
      "text/plain": [
       "<Figure size 432x288 with 1 Axes>"
      ]
     },
     "metadata": {},
     "output_type": "display_data"
    },
    {
     "data": {
      "image/png": "[encoded data removed]",
      "text/plain": [
       "<Figure size 432x288 with 1 Axes>"
      ]
     },
     "metadata": {},
     "output_type": "display_data"
    },
    {
     "data": {
      "image/png": "[encoded data removed]",
      "text/plain": [
       "<Figure size 432x288 with 1 Axes>"
      ]
     },
     "metadata": {},
     "output_type": "display_data"
    },
    {
     "data": {
      "image/png": "[encoded data removed]",
      "text/plain": [
       "<Figure size 432x288 with 1 Axes>"
      ]
     },
     "metadata": {},
     "output_type": "display_data"
    },
    {
     "data": {
      "image/png": "[encoded data removed]",
      "text/plain": [
       "<Figure size 432x288 with 1 Axes>"
      ]
     },
     "metadata": {},
     "output_type": "display_data"
    }
   ],
   "source": [
    "# Histogram of scaled winning percentage stats, not perfectly normal but not awful\n",
    "plt.hist(scaled_cluster_stats['gs_wp'])\n",
    "plt.title(\"Histogram of Winning Percentage\")\n",
    "plt.show()\n",
    "plt.hist(scaled_cluster_stats['TD_pct'])\n",
    "plt.title(\"Histogram of TD Percentage\")\n",
    "plt.show()\n",
    "plt.title(\"Histogram of Start Count\")\n",
    "plt.hist(scaled_cluster_stats['start_count'])\n",
    "plt.show()\n",
    "plt.title(\"Histogram of Y.A\")\n",
    "plt.hist(scaled_cluster_stats['Y.A'])\n",
    "plt.show()\n",
    "plt.title(\"Histogram of INT Percentage\")\n",
    "plt.hist(scaled_cluster_stats['Int_pct'])\n",
    "plt.show()"
   ]
  },
  {
   "cell_type": "markdown",
   "metadata": {},
   "source": [
    "#### Looking at this histograms above, Y.A, TD_pct, and Winning Percentage look somewhat normally distributed. Int_pct and start count are skewed. I actually don't mind this because it makes me think a lot of the QBs who didn't play many games will be grouped together, which is fine, as that is a decent measure of success."
   ]
  },
  {
   "cell_type": "markdown",
   "metadata": {},
   "source": [
    "### K-Means clustering\n",
    "#### Below, I take the retired QBs and cluster them in an unsupervised way into three tiers. I hope to get a good separation between 'good', 'average', and 'bad' qbs, using the statistics I looked at above. The tiers that the clustering algorithm will be used as a response variable in future analysis."
   ]
  },
  {
   "cell_type": "code",
   "execution_count": 16,
   "metadata": {},
   "outputs": [],
   "source": [
    "from sklearn.cluster import KMeans\n",
    "clusters = 3\n",
    "kmeans = KMeans(n_clusters = clusters, random_state = 1).fit(scaled_cluster_stats)"
   ]
  },
  {
   "cell_type": "code",
   "execution_count": 17,
   "metadata": {},
   "outputs": [],
   "source": [
    "pd.options.mode.chained_assignment = None\n",
    "scaled_cluster_stats['tier'] = kmeans.labels_ \n",
    "retired_qbs['tier'] = kmeans.labels_"
   ]
  },
  {
   "cell_type": "markdown",
   "metadata": {},
   "source": [
    "#### Looking at the summary statistics of each cluster below, we see that the algorithm did a good job of separating the QBs into the tiers we desired. Cluster 0 is the 'good' qbs with the best Y/A, best TD%, the longest careers, and best Winning% (though the highest int% which is a bit surprising). Tier 1 is the worst QBs, with the lowest Y/A, , lowest winning%, and shortest careers. Tier 2 is in the middle."
   ]
  },
  {
   "cell_type": "code",
   "execution_count": 18,
   "metadata": {},
   "outputs": [
    {
     "name": "stdout",
     "output_type": "stream",
     "text": [
      "0\n",
      "       start_count         Y.A      TD_pct     Int_pct       gs_wp\n",
      "count   106.000000  106.000000  106.000000  106.000000  106.000000\n",
      "mean    122.254717    7.188980    0.048418    0.044873    0.534546\n",
      "std      59.010259    0.357329    0.007848    0.013885    0.092668\n",
      "min      10.000000    6.404372    0.033822    0.022563    0.321429\n",
      "25%      91.250000    6.928760    0.043171    0.033331    0.472560\n",
      "50%     125.500000    7.156319    0.046979    0.043200    0.526794\n",
      "75%     157.750000    7.422383    0.053207    0.053861    0.604871\n",
      "max     319.000000    8.318486    0.072438    0.080685    0.797297\n",
      "1\n",
      "       start_count        Y.A     TD_pct    Int_pct      gs_wp\n",
      "count    78.000000  78.000000  78.000000  78.000000  78.000000\n",
      "mean     20.910256   5.941815   0.029789   0.053002   0.268118\n",
      "std      12.698487   0.574127   0.008673   0.016675   0.131861\n",
      "min      10.000000   4.328520   0.011338   0.025478   0.000000\n",
      "25%      12.000000   5.521918   0.023665   0.040095   0.175889\n",
      "50%      15.500000   5.920317   0.030707   0.053684   0.252907\n",
      "75%      25.000000   6.348248   0.034281   0.062173   0.398214\n",
      "max      69.000000   7.162630   0.051913   0.118667   0.521739\n",
      "2\n",
      "       start_count         Y.A      TD_pct     Int_pct       gs_wp\n",
      "count   128.000000  128.000000  128.000000  128.000000  128.000000\n",
      "mean     45.187500    6.639399    0.036339    0.036633    0.443161\n",
      "std      30.139766    0.341026    0.006073    0.009524    0.102791\n",
      "min      10.000000    5.622038    0.024719    0.013672    0.230769\n",
      "25%      21.000000    6.449945    0.032463    0.030709    0.371124\n",
      "50%      35.000000    6.667233    0.036056    0.035493    0.446510\n",
      "75%      63.750000    6.876775    0.040308    0.041463    0.520424\n",
      "max     137.000000    7.445946    0.054156    0.068966    0.750000\n"
     ]
    }
   ],
   "source": [
    "for i in range(0,clusters):\n",
    "    print(i)\n",
    "    print(retired_cluster_stats[scaled_cluster_stats['tier'] == i].describe())"
   ]
  },
  {
   "cell_type": "code",
   "execution_count": 19,
   "metadata": {},
   "outputs": [],
   "source": [
    "# assign each QB to the tier they were assigned to by the clustering algorithm.\n",
    "qb_data_with_tiers = qb_data\n",
    "qb_data_with_tiers = qb_data_with_tiers.set_index(['id']).join(retired_qbs['tier'])\n",
    "retired_qb_with_tiers = qb_data_with_tiers[np.isnan(qb_data_with_tiers['tier']) == False]"
   ]
  },
  {
   "cell_type": "markdown",
   "metadata": {},
   "source": [
    "### Random Forest Classifier"
   ]
  },
  {
   "cell_type": "code",
   "execution_count": 20,
   "metadata": {},
   "outputs": [],
   "source": [
    "#from sklearn.model_selection import train_test_split\n",
    "from sklearn.preprocessing import StandardScaler\n",
    "from sklearn.ensemble import RandomForestClassifier\n",
    "retired_qb_with_tiers.head() # we now have all their per-game data with their tier assigned as a column\n",
    "retired_qb_with_tiers.index.name='id'"
   ]
  },
  {
   "cell_type": "markdown",
   "metadata": {},
   "source": [
    "#### Function for getting a QB's summary stats for the first X games. This function does a lot of the work for analyzing how many games it takes to be able to accurately classify which tier a QB will fall into."
   ]
  },
  {
   "cell_type": "code",
   "execution_count": 21,
   "metadata": {},
   "outputs": [],
   "source": [
    "def get_stats_for_first_x_games(full_data, games):\n",
    "    reduced_data = full_data[full_data['start_count'] <= int(games)] #get a QB's games through their first X starts\n",
    "    sum_columns =['Cmp', 'Att','Yds','TD','Int', 'team_win','start_win'] # these are the columns we want the sums for for those first X games\n",
    "    qb_totals = reduced_data.groupby('id')[sum_columns].sum() # get the sums\n",
    "    qb_totals['total_game_starts'] = full_data.groupby('id')['start_count'].max() # get their total number of starts in their career\n",
    "    qb_totals['total_games'] = [x if x < games else games for x in qb_totals['total_game_starts']] #if the total starts is less than the games asked for, use their # of career starts\n",
    "    qb_totals['Cmp.'] = qb_totals['Cmp'] / qb_totals['Att'] # calculate completion % for their first x games\n",
    "    qb_totals['Y.A'] = qb_totals['Yds'] / qb_totals['Att'] # calculate y/a for their first x games\n",
    "    qb_totals['TD_pct'] = qb_totals['TD'] / qb_totals['Att']\n",
    "    qb_totals['Int_pct'] = qb_totals['Int'] / qb_totals['Att']\n",
    "    qb_totals['gs_wp'] = (qb_totals['start_win'] / qb_totals['total_games']).fillna(0) # get their winning % for their first x games\n",
    "    qb_totals['tier'] = reduced_data.groupby('id')['tier'].max() # include their tier\n",
    "    return(qb_totals)"
   ]
  },
  {
   "cell_type": "markdown",
   "metadata": {},
   "source": [
    "### Modeling & K-Fold Cross Validation"
   ]
  },
  {
   "cell_type": "markdown",
   "metadata": {},
   "source": [
    "#### The below is the meat of the analysis. The steps are as follows:\n",
    "* Instantiate 5 splits for 5-Fold validation. The same splits will be used for each iteration\n",
    "* Run a loop for 1-80 games considered. Basically, we are going to create a model where we look at the first X games, where X ranges from 1-80, to see how predictive those X games are towards determining which tier a qb ends up in.\n",
    "* So starting with 1 game, we take each of the retired QBs and get their first game stats using the function we defined above.\n",
    "* We split the QBs into 5 folds.\n",
    "* We start with 4 of the folds to create a model, and one to test against to get a classification error. We are trying to predict which tier they end their careers in.\n",
    "* Scale the regressors so theyre all on an even playing field as far as importance for the model.\n",
    "* Use a random forest classifier on the 4 folds used for modeling. Use the fifth fold for making predictions based on the model created from the other 4 folds.\n",
    "* Calculate the classification error of how predictive the first game was towards figuring out which tier they ended their careers in.\n",
    "* Also calculate what i refer to as a 'bad classification' which is when the model predicts someone to be in tier 1 (bad qbs) when they actually ended up in tier 0 (very good qbs), or vice versa.\n",
    "* Do the modeling/classification error calculation for each of the 5 folds, and average the classification error for that number of games.\n",
    "* Repeat the process, but this time looking at how predictive the first 2 games were. Continue through the first 80 games, calculating average classification error for each number of games considered."
   ]
  },
  {
   "cell_type": "code",
   "execution_count": null,
   "metadata": {},
   "outputs": [],
   "source": [
    "from sklearn.model_selection import KFold\n",
    "kf = KFold(n_splits = 5, shuffle=True, random_state=10)\n",
    "averages = list()\n",
    "bad_averages = list()\n",
    "reg_averages = list()\n",
    "for i in np.arange(1,80):\n",
    "    first_x_games = get_stats_for_first_x_games(retired_qb_with_tiers, i)\n",
    "    first_x_games['tier_fact'] = first_x_games['tier'].astype('category')\n",
    "    X = first_x_games[['Y.A', 'TD_pct', 'Int_pct','gs_wp']]\n",
    "    y = first_x_games['tier_fact']\n",
    "    errors = list()\n",
    "    bad_errors = list()\n",
    "    reg_errors = list()\n",
    "    for train, test in kf.split(X):\n",
    "        X_train =  X.iloc[train]\n",
    "        X_test = X.iloc[test]\n",
    "        y_train = y.iloc[train]\n",
    "        y_test = y.iloc[test]\n",
    "        scaler = StandardScaler()\n",
    "        X_train = scaler.fit_transform(X_train)\n",
    "        X_test = scaler.transform(X_test)\n",
    "        classifier = RandomForestClassifier(n_estimators = 100, criterion = 'entropy', random_state = 42)\n",
    "        classifier.fit(X_train, y_train)\n",
    "        y_pred = classifier.predict(X_test)\n",
    "        reversefactor = dict(zip(range(3),[\"0\",\"1\",\"2\"]))\n",
    "        y_test = np.vectorize(reversefactor.get)(y_test)\n",
    "        y_pred = np.vectorize(reversefactor.get)(y_pred)\n",
    "        errors.append(sum(y_test != y_pred)/len(y_test))\n",
    "        bad_errors.append((sum(y_pred[y_test == '1'] == '0') + sum(y_pred[y_test == '0'] == '1'))/len(y_test))\n",
    "    averages.append(np.mean(errors))   \n",
    "    bad_averages.append(np.mean(bad_errors))"
   ]
  },
  {
   "cell_type": "markdown",
   "metadata": {},
   "source": [
    "#### Once we've calculated the classification error and 'bad error' rates, we plot them to see how it changed over each number of games considered. As expected we see an overall decreasing error rate for both types of error."
   ]
  },
  {
   "cell_type": "code",
   "execution_count": null,
   "metadata": {},
   "outputs": [],
   "source": [
    "plt.plot(np.arange(1,80), averages, bad_averages)\n",
    "plt.title('Starts at Beginning of Career vs. Classification Error Rate')\n",
    "plt.xlabel('Number of Starts Considered')\n",
    "plt.ylabel('Error Rate')\n",
    "plt.legend(['Total Error Rate', 'Bad Error Rate'])\n",
    "plt.show()"
   ]
  },
  {
   "cell_type": "markdown",
   "metadata": {},
   "source": [
    "#### At around 30 games, we have about 23% error rate - which is only slightly higher than the error rate at about 60 games. Thus, we say that after about 30 games, a team will have a pretty good idea about how a Quarterback's career will turn out, and that waiting an additional 30 games won't give them much more information.\n",
    "#### The same can be said about 'bad' classification error rate. After 30 games, the likelihood of making a bad error is about 4%, and adding more games doesn't give too much information about a qb."
   ]
  },
  {
   "cell_type": "code",
   "execution_count": null,
   "metadata": {},
   "outputs": [],
   "source": [
    "plt.plot(np.arange(1,80), averages, bad_averages)\n",
    "plt.title('Starts at Beginning of Career vs. Classification Error Rate')\n",
    "plt.xlabel('Number of Starts Considered')\n",
    "plt.ylabel('Error Rate')\n",
    "plt.legend(['Total Error Rate', 'Bad Error Rate'])\n",
    "plt.axhline(y=.23, color='black', linestyle = '--')\n",
    "plt.axhline(y=.04, color='black', linestyle = '--')\n",
    "plt.show()"
   ]
  },
  {
   "cell_type": "markdown",
   "metadata": {},
   "source": [
    "## Predicting Which Tier Current QBs will End Up in\n",
    "#### I will now use all of the retired QBs in order to create a model to make predictions about in which tier the current QBs will end their careers."
   ]
  },
  {
   "cell_type": "code",
   "execution_count": null,
   "metadata": {
    "scrolled": true
   },
   "outputs": [],
   "source": [
    "predictions = list()\n",
    "for index, row in current_qbs.iterrows():\n",
    "    player_starts = row['start_count']\n",
    "    retired_first_x_games = get_stats_for_first_x_games(retired_qb_with_tiers, player_starts)\n",
    "    retired_first_x_games['tier_fact'] = retired_first_x_games['tier'].astype('category')\n",
    "    X = retired_first_x_games[['Y.A', 'TD_pct', 'Int_pct','gs_wp']]\n",
    "    y = retired_first_x_games['tier_fact']\n",
    "    classifier = RandomForestClassifier(n_estimators = 20, criterion = 'entropy', random_state = 2)\n",
    "    classifier.fit(X, y)\n",
    "    player_stats = row[['Y.A', 'TD_pct', 'Int_pct','gs_wp']]\n",
    "    player_prediction = classifier.predict([player_stats])\n",
    "    predictions.append(player_prediction.astype('int')[0])\n",
    "current_qbs['predicted_tier'] = predictions"
   ]
  },
  {
   "cell_type": "code",
   "execution_count": null,
   "metadata": {},
   "outputs": [],
   "source": [
    "def replace_tier_number_with_description(tier):\n",
    "    if tier == 2:\n",
    "        return('Average')\n",
    "    if tier == 0:\n",
    "        return('Great')\n",
    "    if tier == 1:\n",
    "        return('Scrub')"
   ]
  },
  {
   "cell_type": "markdown",
   "metadata": {},
   "source": [
    "#### After Running the Classifier on the Current QBs, we can predict which tier they will end their careers in. I've marked the QBs who have had at least 30 starts because that is the threshold we established regarding when we can be about 77% confident in this prediction"
   ]
  },
  {
   "cell_type": "code",
   "execution_count": null,
   "metadata": {},
   "outputs": [],
   "source": [
    "current_qbs['predicted_tier_cat'] = current_qbs.predicted_tier.apply(replace_tier_number_with_description)\n",
    "current_qbs['over_30_games'] = [\"*\" if (x >=30) else '' for x in current_qbs['start_count']]\n",
    "current_qbs[['name', 'predicted_tier_cat', 'over_30_games']]"
   ]
  },
  {
   "cell_type": "markdown",
   "metadata": {},
   "source": [
    "### Conclusions"
   ]
  },
  {
   "cell_type": "markdown",
   "metadata": {},
   "source": [
    "The results of the predictive model aligns pretty well with conventional wisdom. Certain hall-of-fame quarterbacks Tom Brady, Drew Brees, and Aaron Rodgers are classified as being great. Journeyman quarterbacks Ryan Fitzpatrick and Derek Anderson are classified as being average. And true scrub Blaine Gabbert is classified as such. \n",
    "\n",
    "There are a couple surprising results - I would expect Brock Osweiler to be considered a scrub, and Dak Prescott to be considered average. However, our classification error rates never hit 0%, so it doesn't surprise me that these seem slightly off - and perhaps I should just give these QBs more credit!"
   ]
  }
 ],
 "metadata": {
  "kernelspec": {
   "display_name": "Python 3",
   "language": "python",
   "name": "python3"
  },
  "language_info": {
   "codemirror_mode": {
    "name": "ipython",
    "version": 3
   },
   "file_extension": ".py",
   "mimetype": "text/x-python",
   "name": "python",
   "nbconvert_exporter": "python",
   "pygments_lexer": "ipython3",
   "version": "3.6.5"
  }
 },
 "nbformat": 4,
 "nbformat_minor": 2
}
