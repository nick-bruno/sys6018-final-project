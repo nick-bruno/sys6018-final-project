{
 "cells": [
  {
   "cell_type": "code",
   "execution_count": 43,
   "metadata": {},
   "outputs": [
    {
     "data": {
      "text/html": [
       "<div>\n",
       "<style scoped>\n",
       "    .dataframe tbody tr th:only-of-type {\n",
       "        vertical-align: middle;\n",
       "    }\n",
       "\n",
       "    .dataframe tbody tr th {\n",
       "        vertical-align: top;\n",
       "    }\n",
       "\n",
       "    .dataframe thead th {\n",
       "        text-align: right;\n",
       "    }\n",
       "</style>\n",
       "<table border=\"1\" class=\"dataframe\">\n",
       "  <thead>\n",
       "    <tr style=\"text-align: right;\">\n",
       "      <th></th>\n",
       "      <th>name</th>\n",
       "      <th>id</th>\n",
       "      <th>Cmp</th>\n",
       "      <th>Att</th>\n",
       "      <th>Yds</th>\n",
       "      <th>TD</th>\n",
       "      <th>Int</th>\n",
       "      <th>Sk</th>\n",
       "      <th>Fmb</th>\n",
       "      <th>team_win</th>\n",
       "      <th>start_win</th>\n",
       "      <th>Cmp.</th>\n",
       "      <th>Y.A</th>\n",
       "      <th>TD_pct</th>\n",
       "      <th>Int_pct</th>\n",
       "      <th>game_count</th>\n",
       "      <th>start_count</th>\n",
       "      <th>win_count</th>\n",
       "      <th>win_percent</th>\n",
       "      <th>y</th>\n",
       "    </tr>\n",
       "  </thead>\n",
       "  <tbody>\n",
       "    <tr>\n",
       "      <th>0</th>\n",
       "      <td>A.J. Feeley</td>\n",
       "      <td>FeelA.00</td>\n",
       "      <td>16.875</td>\n",
       "      <td>29.375</td>\n",
       "      <td>190.375</td>\n",
       "      <td>1.125</td>\n",
       "      <td>1.125</td>\n",
       "      <td>1.375</td>\n",
       "      <td>0.0</td>\n",
       "      <td>0.625</td>\n",
       "      <td>0.500</td>\n",
       "      <td>0.574468</td>\n",
       "      <td>6.480851</td>\n",
       "      <td>0.038298</td>\n",
       "      <td>0.038298</td>\n",
       "      <td>23</td>\n",
       "      <td>18</td>\n",
       "      <td>11</td>\n",
       "      <td>0.478261</td>\n",
       "      <td>0</td>\n",
       "    </tr>\n",
       "    <tr>\n",
       "      <th>1</th>\n",
       "      <td>Aaron Brooks</td>\n",
       "      <td>BrooAa00</td>\n",
       "      <td>19.875</td>\n",
       "      <td>34.625</td>\n",
       "      <td>251.750</td>\n",
       "      <td>1.625</td>\n",
       "      <td>0.875</td>\n",
       "      <td>2.625</td>\n",
       "      <td>0.0</td>\n",
       "      <td>0.500</td>\n",
       "      <td>0.500</td>\n",
       "      <td>0.574007</td>\n",
       "      <td>7.270758</td>\n",
       "      <td>0.046931</td>\n",
       "      <td>0.025271</td>\n",
       "      <td>92</td>\n",
       "      <td>91</td>\n",
       "      <td>39</td>\n",
       "      <td>0.423913</td>\n",
       "      <td>1</td>\n",
       "    </tr>\n",
       "    <tr>\n",
       "      <th>2</th>\n",
       "      <td>Aaron Rodgers</td>\n",
       "      <td>RodgAa00</td>\n",
       "      <td>16.625</td>\n",
       "      <td>27.000</td>\n",
       "      <td>196.500</td>\n",
       "      <td>1.250</td>\n",
       "      <td>0.625</td>\n",
       "      <td>2.500</td>\n",
       "      <td>0.5</td>\n",
       "      <td>0.250</td>\n",
       "      <td>0.250</td>\n",
       "      <td>0.615741</td>\n",
       "      <td>7.277778</td>\n",
       "      <td>0.046296</td>\n",
       "      <td>0.023148</td>\n",
       "      <td>167</td>\n",
       "      <td>164</td>\n",
       "      <td>106</td>\n",
       "      <td>0.634731</td>\n",
       "      <td>1</td>\n",
       "    </tr>\n",
       "    <tr>\n",
       "      <th>3</th>\n",
       "      <td>Adrian Burk</td>\n",
       "      <td>BurkAd00</td>\n",
       "      <td>6.375</td>\n",
       "      <td>16.750</td>\n",
       "      <td>114.250</td>\n",
       "      <td>1.000</td>\n",
       "      <td>1.750</td>\n",
       "      <td>0.000</td>\n",
       "      <td>0.0</td>\n",
       "      <td>0.125</td>\n",
       "      <td>0.125</td>\n",
       "      <td>0.380597</td>\n",
       "      <td>6.820896</td>\n",
       "      <td>0.059701</td>\n",
       "      <td>0.104478</td>\n",
       "      <td>51</td>\n",
       "      <td>39</td>\n",
       "      <td>18</td>\n",
       "      <td>0.352941</td>\n",
       "      <td>0</td>\n",
       "    </tr>\n",
       "    <tr>\n",
       "      <th>4</th>\n",
       "      <td>Akili Smith</td>\n",
       "      <td>SmitAk00</td>\n",
       "      <td>14.000</td>\n",
       "      <td>29.375</td>\n",
       "      <td>153.375</td>\n",
       "      <td>0.375</td>\n",
       "      <td>1.250</td>\n",
       "      <td>3.875</td>\n",
       "      <td>0.0</td>\n",
       "      <td>0.125</td>\n",
       "      <td>0.125</td>\n",
       "      <td>0.476596</td>\n",
       "      <td>5.221277</td>\n",
       "      <td>0.012766</td>\n",
       "      <td>0.042553</td>\n",
       "      <td>16</td>\n",
       "      <td>14</td>\n",
       "      <td>2</td>\n",
       "      <td>0.125000</td>\n",
       "      <td>0</td>\n",
       "    </tr>\n",
       "  </tbody>\n",
       "</table>\n",
       "</div>"
      ],
      "text/plain": [
       "            name        id     Cmp     Att      Yds     TD    Int     Sk  Fmb  \\\n",
       "0    A.J. Feeley  FeelA.00  16.875  29.375  190.375  1.125  1.125  1.375  0.0   \n",
       "1   Aaron Brooks  BrooAa00  19.875  34.625  251.750  1.625  0.875  2.625  0.0   \n",
       "2  Aaron Rodgers  RodgAa00  16.625  27.000  196.500  1.250  0.625  2.500  0.5   \n",
       "3    Adrian Burk  BurkAd00   6.375  16.750  114.250  1.000  1.750  0.000  0.0   \n",
       "4    Akili Smith  SmitAk00  14.000  29.375  153.375  0.375  1.250  3.875  0.0   \n",
       "\n",
       "   team_win  start_win      Cmp.       Y.A    TD_pct   Int_pct  game_count  \\\n",
       "0     0.625      0.500  0.574468  6.480851  0.038298  0.038298          23   \n",
       "1     0.500      0.500  0.574007  7.270758  0.046931  0.025271          92   \n",
       "2     0.250      0.250  0.615741  7.277778  0.046296  0.023148         167   \n",
       "3     0.125      0.125  0.380597  6.820896  0.059701  0.104478          51   \n",
       "4     0.125      0.125  0.476596  5.221277  0.012766  0.042553          16   \n",
       "\n",
       "   start_count  win_count  win_percent  y  \n",
       "0           18         11     0.478261  0  \n",
       "1           91         39     0.423913  1  \n",
       "2          164        106     0.634731  1  \n",
       "3           39         18     0.352941  0  \n",
       "4           14          2     0.125000  0  "
      ]
     },
     "execution_count": 43,
     "metadata": {},
     "output_type": "execute_result"
    }
   ],
   "source": [
    "import pandas as pd\n",
    "train8 = pd.read_csv('sys_train8.csv')\n",
    "train8.head()"
   ]
  },
  {
   "cell_type": "code",
   "execution_count": 37,
   "metadata": {},
   "outputs": [
    {
     "data": {
      "text/plain": [
       "0.6565349544072948"
      ]
     },
     "execution_count": 37,
     "metadata": {},
     "output_type": "execute_result"
    }
   ],
   "source": [
    "from sklearn.linear_model import LogisticRegression\n",
    "#Don't Include Name Id or any career game totals\n",
    "X = train8.iloc[:,2:15]\n",
    "y = train8['y']\n",
    "clf = LogisticRegression(max_iter= 4000,solver = 'lbfgs').fit(X, y)\n",
    "clf.score(X,y)"
   ]
  },
  {
   "cell_type": "code",
   "execution_count": 51,
   "metadata": {},
   "outputs": [],
   "source": [
    "from sklearn.model_selection import cross_val_score\n",
    "train1 = pd.read_csv('sys_train1.csv')\n",
    "clf = LogisticRegression(max_iter= 4000,solver = 'lbfgs')\n",
    "X = train1.iloc[:,2:15]\n",
    "y = train1['y']\n",
    "scores1 = cross_val_score(clf, X, y, cv=5)\n",
    "score1 = scores1.mean()"
   ]
  },
  {
   "cell_type": "code",
   "execution_count": 52,
   "metadata": {},
   "outputs": [],
   "source": [
    "train2 = pd.read_csv('sys_train2.csv')\n",
    "clf = LogisticRegression(max_iter= 4000,solver = 'lbfgs')\n",
    "X = train2.iloc[:,2:15]\n",
    "y = train2['y']\n",
    "scores2 = cross_val_score(clf, X, y, cv=5)\n",
    "score2 = scores2.mean()"
   ]
  },
  {
   "cell_type": "code",
   "execution_count": 53,
   "metadata": {},
   "outputs": [],
   "source": [
    "train3 = pd.read_csv('sys_train3.csv')\n",
    "clf = LogisticRegression(max_iter= 4000,solver = 'lbfgs')\n",
    "X = train3.iloc[:,2:15]\n",
    "y = train3['y']\n",
    "scores3 = cross_val_score(clf, X, y, cv=5)\n",
    "score3 = scores3.mean()"
   ]
  },
  {
   "cell_type": "code",
   "execution_count": 54,
   "metadata": {},
   "outputs": [],
   "source": [
    "train4 = pd.read_csv('sys_train4.csv')\n",
    "clf = LogisticRegression(max_iter= 4000,solver = 'lbfgs')\n",
    "X = train4.iloc[:,2:15]\n",
    "y = train4['y']\n",
    "scores4 = cross_val_score(clf, X, y, cv=5)\n",
    "score4 = scores4.mean()"
   ]
  },
  {
   "cell_type": "code",
   "execution_count": 55,
   "metadata": {},
   "outputs": [],
   "source": [
    "train5 = pd.read_csv('sys_train5.csv')\n",
    "clf = LogisticRegression(max_iter= 4000,solver = 'lbfgs')\n",
    "X = train5.iloc[:,2:15]\n",
    "y = train5['y']\n",
    "scores5 = cross_val_score(clf, X, y, cv=5)\n",
    "score5 = scores5.mean()"
   ]
  },
  {
   "cell_type": "code",
   "execution_count": 56,
   "metadata": {},
   "outputs": [],
   "source": [
    "train6 = pd.read_csv('sys_train6.csv')\n",
    "clf = LogisticRegression(max_iter= 4000,solver = 'lbfgs')\n",
    "X = train6.iloc[:,2:15]\n",
    "y = train6['y']\n",
    "scores6 = cross_val_score(clf, X, y, cv=5)\n",
    "score6 = scores6.mean()"
   ]
  },
  {
   "cell_type": "code",
   "execution_count": 57,
   "metadata": {},
   "outputs": [],
   "source": [
    "train7 = pd.read_csv('sys_train7.csv')\n",
    "clf = LogisticRegression(max_iter= 4000,solver = 'lbfgs')\n",
    "X = train7.iloc[:,2:15]\n",
    "y = train7['y']\n",
    "scores7 = cross_val_score(clf, X, y, cv=5)\n",
    "score7 =scores7.mean()"
   ]
  },
  {
   "cell_type": "code",
   "execution_count": 58,
   "metadata": {},
   "outputs": [],
   "source": [
    "clf = LogisticRegression(max_iter= 4000,solver = 'lbfgs')\n",
    "X = train8.iloc[:,2:15]\n",
    "y = train8['y']\n",
    "scores8 = cross_val_score(clf, X, y, cv=5)\n",
    "score8 = scores8.mean()\n",
    "#not useless! We're better than 50% so thats a start"
   ]
  },
  {
   "cell_type": "code",
   "execution_count": 59,
   "metadata": {},
   "outputs": [],
   "source": [
    "train9 = pd.read_csv('sys_train9.csv')\n",
    "clf = LogisticRegression(max_iter= 4000,solver = 'lbfgs')\n",
    "X = train9.iloc[:,2:15]\n",
    "y = train9['y']\n",
    "scores9 = cross_val_score(clf, X, y, cv=5)\n",
    "score9 = scores9.mean()"
   ]
  },
  {
   "cell_type": "code",
   "execution_count": 60,
   "metadata": {},
   "outputs": [],
   "source": [
    "train10 = pd.read_csv('sys_train10.csv')\n",
    "clf = LogisticRegression(max_iter= 4000,solver = 'lbfgs')\n",
    "X = train10.iloc[:,2:15]\n",
    "y = train10['y']\n",
    "scores10 = cross_val_score(clf, X, y, cv=5)\n",
    "score10 = scores10.mean()"
   ]
  },
  {
   "cell_type": "code",
   "execution_count": 69,
   "metadata": {},
   "outputs": [
    {
     "data": {
      "image/png": "[encoded data removed]",
      "text/plain": [
       "<Figure size 432x288 with 1 Axes>"
      ]
     },
     "metadata": {},
     "output_type": "display_data"
    }
   ],
   "source": [
    "import matplotlib.pyplot as plt\n",
    "%matplotlib inline\n",
    "mean_acc = [score1,score2,score3,score4,score5,score6,score7,score8,score9,score10]\n",
    "plt.plot([1,2,3,4,5,6,7,8,9,10],mean_acc)\n",
    "plt.ylabel('Accuracy of Logistic Regression')\n",
    "plt.xlabel('Number of First Games Given')\n",
    "plt.show()"
   ]
  },
  {
   "cell_type": "code",
   "execution_count": null,
   "metadata": {},
   "outputs": [],
   "source": []
  }
 ],
 "metadata": {
  "kernelspec": {
   "display_name": "Python 3",
   "language": "python",
   "name": "python3"
  },
  "language_info": {
   "codemirror_mode": {
    "name": "ipython",
    "version": 3
   },
   "file_extension": ".py",
   "mimetype": "text/x-python",
   "name": "python",
   "nbconvert_exporter": "python",
   "pygments_lexer": "ipython3",
   "version": "3.6.5"
  }
 },
 "nbformat": 4,
 "nbformat_minor": 2
}
